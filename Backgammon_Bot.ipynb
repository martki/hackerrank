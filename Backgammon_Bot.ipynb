{
 "cells": [
  {
   "cell_type": "markdown",
   "metadata": {},
   "source": [
    "# Creating a Backgammon Bot\n",
    "\n",
    "https://www.hackerrank.com/challenges/backgammon"
   ]
  },
  {
   "cell_type": "markdown",
   "metadata": {},
   "source": [
    "## Movement of Checkers\n",
    "\n",
    "Each player is allowed to roll two 6 sided dice. The points on the dice indicates the total number of triangles a player can move his checkers. A checker can always be moved close to its home board and not away from it. A checker movement has the following rules.\n",
    "\n",
    "A checker can move only to an open point. An open point is defined as a point which has checkers of the same player or less than 2 checkers of the opponent.\n",
    "If a player rolls a 4, 6, then he may move one checker 4 spaces to an open point and another checker 6 spaces to an open point. Or move one checker a total of 10 spaces such that the intermediate point (4th or the 6th space) is open.\n",
    "If a player rolls a double ( both dices having the same number ), he gets to play the number rolled on the dice twice in whatever combination he chooses to.\n",
    "A player must use all the numbers rolled by the dice if its legally possible. If only 1 number is possible, that number must be played.\n",
    "If no dice rolls are possible, the move is automatically skipped.\n",
    "\n",
    "## Hitting and Entering\n",
    "\n",
    "A point occupied by only 1 checker of either color is called a blot. If an opponent's coin is placed on the same point, then its called a hit and the existing checker is moved to the bar.\n",
    "If a player has one or more checkers of his on the bar, his immediate objective is to enter his checkers into the opponent's home board (1-6) for the 1st player and (19-24) for the 2nd player.\n",
    "The movement follows the same rules as regular movement of checkers. A checker can be placed on open points only.\n",
    "No other moves are possible until all the checkers are removed from the bar.\n",
    "A player looses his turn if neither of the points are open.\n",
    "After the last checker from the bar has entered the board, unused moves can be played in a regular manner.\n",
    "\n",
    "\n",
    "## Bearing Off\n",
    "\n",
    "Once a player has moved all his checkers into his home board, he can start bearing off. The bear off points for the 1st player and the 2nd player is 25 and 0 respectively.\n",
    "\n",
    "A player bears off a checker by rolling a number that corresponds to the point on which the checker resides, and then removing that checker from the board. Thus, rolling a 6 permits the player to remove a checker from the six (19th point for the first player) point. If there is no checker on the point indicated by the roll, the player must make a legal move using a checker on a higher-numbered point. If there are no checkers on higher-numbered points, the player is permitted (and required) to remove a checker from the highest point on which one of his checkers resides. A player is under no obligation to bear off if he can make an otherwise legal move.\n",
    "\n",
    "A player must have all of his active checkers in his home board in order to bear off. If a checker is hit during the bear-off process, the player must bring that checker back to his home board before continuing to bear off. The first player to bear off all fifteen checkers wins the game.\n",
    "\n",
    "## Input Format\n",
    "\n",
    "The first line of the input is 1 or 2 indicating its either white or black who is playing the game. 26 lines follow. Each line contains 1 or 2 integers ( separated by a single space ) indicating the number of checkers on the point and the type of the checker ( 1 for 1st player's checker and 2 for 2nd player's checker)\n",
    "\n",
    "5 1 indicates that there are 5 checkers of the first player.\n",
    "6 2 indicates that there are 6 checkers of the second player.\n",
    "0 indicates that the point has no checkers. The first and the last line are bear off points for 2nd player and the 1st player respectively.\n",
    "2 lines follow each line indicating the number of coins in the bar for the 1st player and the 2nd player.\n",
    "The next line contains an integer ( 2 or 4 ) indicating the number of dice rolls played on behalf of player by the computer. 4 both the dice rolled the same number. 2 or 4 lines follow each indicating a number between 1-6 which is the number on the dice.\n",
    "\n",
    "## Output Format\n",
    "\n",
    "For every possible legal dice roll possible, print a checker move in a new line. Each move has two integers ( start point and end point ).\n",
    "\n",
    "1 2 a checker is moved from 1 to 2.\n",
    "-1 5 a checker is removed from the bar and is placed at 5 on a dice roll of 5.\n",
    "1 0 a coin is being bared off.\n",
    "Note:-\n",
    "\n",
    "player 1 moves his checkers from 1 to 24 and later to 25 for bearing off.\n",
    "player 2 moves his checkers from 24 to 1 and later to 0 for bearing off.\n",
    "player 1 removes his checkers from bar and places it on the points between 1 to 6.\n",
    "player 2 removes his checkers from bar and places it on the points between 19 to 24. A dice roll of 1 would place a checker for player 2 from bar to 24, a dice roll of 2 would place it on 23 and so on.\n",
    "If your code has an input, it is guaranteed that atleast 1 dice roll is legally possible."
   ]
  },
  {
   "cell_type": "code",
   "execution_count": 1,
   "metadata": {},
   "outputs": [],
   "source": [
    "import random"
   ]
  },
  {
   "cell_type": "code",
   "execution_count": 6,
   "metadata": {},
   "outputs": [],
   "source": [
    "class Backgammon():\n",
    "    def __init__(self):\n",
    "        board = [0]*24\n",
    "        \n",
    "    def check_legal_move(pos):\n",
    "        pass\n",
    "        \n",
    "    def roll_dices(self):\n",
    "        return [random.randint(1, 6), random.randint(1, 6)]"
   ]
  },
  {
   "cell_type": "code",
   "execution_count": 13,
   "metadata": {},
   "outputs": [
    {
     "data": {
      "text/plain": [
       "[2, 6]"
      ]
     },
     "execution_count": 13,
     "metadata": {},
     "output_type": "execute_result"
    }
   ],
   "source": [
    "b = Backgammon()\n",
    "\n",
    "b.roll_dices()"
   ]
  },
  {
   "cell_type": "markdown",
   "metadata": {},
   "source": [
    "## Sample Input\n",
    "\n",
    "1  \n",
    "0  \n",
    "2 1  \n",
    "0  \n",
    "0  \n",
    "0  \n",
    "0  \n",
    "5 2  \n",
    "0  \n",
    "3 2  \n",
    "0  \n",
    "0  \n",
    "0  \n",
    "5 1   \n",
    "5 2    \n",
    "0    \n",
    "0   \n",
    "0       \n",
    "3 1    \n",
    "0   \n",
    "5 1    \n",
    "0    \n",
    "0    \n",
    "0    \n",
    "0   \n",
    "2 2     \n",
    "0      \n",
    "0   \n",
    "0     \n",
    "2     \n",
    "5    \n",
    "4   "
   ]
  },
  {
   "cell_type": "markdown",
   "metadata": {},
   "source": [
    "## Sample Output\n",
    "\n",
    "1 5  \n",
    "12 17  "
   ]
  },
  {
   "cell_type": "code",
   "execution_count": null,
   "metadata": {},
   "outputs": [],
   "source": []
  }
 ],
 "metadata": {
  "kernelspec": {
   "display_name": "Python 3",
   "language": "python",
   "name": "python3"
  },
  "language_info": {
   "codemirror_mode": {
    "name": "ipython",
    "version": 3
   },
   "file_extension": ".py",
   "mimetype": "text/x-python",
   "name": "python",
   "nbconvert_exporter": "python",
   "pygments_lexer": "ipython3",
   "version": "3.7.3"
  }
 },
 "nbformat": 4,
 "nbformat_minor": 2
}
